{
  "nbformat": 4,
  "nbformat_minor": 0,
  "metadata": {
    "colab": {
      "provenance": []
    },
    "kernelspec": {
      "name": "python3",
      "display_name": "Python 3"
    },
    "language_info": {
      "name": "python"
    }
  },
  "cells": [
    {
      "cell_type": "code",
      "execution_count": 3,
      "metadata": {
        "colab": {
          "base_uri": "https://localhost:8080/"
        },
        "id": "oUyY18mgK9P8",
        "outputId": "059d5fd6-fa26-4868-d849-e1188b23abf2"
      },
      "outputs": [
        {
          "output_type": "stream",
          "name": "stderr",
          "text": [
            "/usr/local/lib/python3.11/dist-packages/numpy/lib/_function_base_impl.py:2922: RuntimeWarning: invalid value encountered in divide\n",
            "  c /= stddev[:, None]\n",
            "/usr/local/lib/python3.11/dist-packages/numpy/lib/_function_base_impl.py:2923: RuntimeWarning: invalid value encountered in divide\n",
            "  c /= stddev[None, :]\n",
            "/usr/local/lib/python3.11/dist-packages/numpy/lib/_function_base_impl.py:2914: RuntimeWarning: Degrees of freedom <= 0 for slice\n",
            "  c = cov(x, y, rowvar, dtype=dtype)\n",
            "/usr/local/lib/python3.11/dist-packages/numpy/lib/_function_base_impl.py:2773: RuntimeWarning: divide by zero encountered in divide\n",
            "  c *= np.true_divide(1, fact)\n",
            "/usr/local/lib/python3.11/dist-packages/numpy/lib/_function_base_impl.py:2773: RuntimeWarning: invalid value encountered in multiply\n",
            "  c *= np.true_divide(1, fact)\n"
          ]
        },
        {
          "output_type": "stream",
          "name": "stdout",
          "text": [
            "🎥 Top 10 movies similar to: Star Wars (1977)\n",
            "                                                    correlation  \\\n",
            "title                                                             \n",
            "Star Wars (1977)                                       1.000000   \n",
            "Empire Strikes Back, The (1980)                        0.747981   \n",
            "Return of the Jedi (1983)                              0.672556   \n",
            "Raiders of the Lost Ark (1981)                         0.536117   \n",
            "Austin Powers: International Man of Mystery (1997)     0.377433   \n",
            "Sting, The (1973)                                      0.367538   \n",
            "Indiana Jones and the Last Crusade (1989)              0.350107   \n",
            "Pinocchio (1940)                                       0.347868   \n",
            "Frighteners, The (1996)                                0.332729   \n",
            "L.A. Confidential (1997)                               0.319065   \n",
            "\n",
            "                                                    num_of_ratings  \n",
            "title                                                               \n",
            "Star Wars (1977)                                               583  \n",
            "Empire Strikes Back, The (1980)                                367  \n",
            "Return of the Jedi (1983)                                      507  \n",
            "Raiders of the Lost Ark (1981)                                 420  \n",
            "Austin Powers: International Man of Mystery (1997)             130  \n",
            "Sting, The (1973)                                              241  \n",
            "Indiana Jones and the Last Crusade (1989)                      331  \n",
            "Pinocchio (1940)                                               101  \n",
            "Frighteners, The (1996)                                        115  \n",
            "L.A. Confidential (1997)                                       297  \n"
          ]
        }
      ],
      "source": [
        "\n",
        "\n",
        "import pandas as pd\n",
        "import numpy as np\n",
        "\n",
        "\n",
        "column_names = ['user_id', 'item_id', 'rating', 'timestamp']\n",
        "df = pd.read_csv('u.data', sep='\\t', names=column_names)\n",
        "\n",
        "\n",
        "movie_titles = pd.read_csv('u.item', sep='|', encoding='latin-1', header=None, usecols=[0,1], names=['item_id', 'title'])\n",
        "\n",
        "\n",
        "df = pd.merge(df, movie_titles, on='item_id')\n",
        "\n",
        "\n",
        "ratings = pd.DataFrame(df.groupby('title')['rating'].mean())\n",
        "ratings['num_of_ratings'] = df.groupby('title')['rating'].count()\n",
        "\n",
        "\n",
        "movie_matrix = df.pivot_table(index='user_id', columns='title', values='rating')\n",
        "\n",
        "\n",
        "target_movie = 'Star Wars (1977)'\n",
        "\n",
        "\n",
        "similar_to_target = movie_matrix.corrwith(movie_matrix[target_movie])\n",
        "\n",
        "\n",
        "corr_target = pd.DataFrame(similar_to_target, columns=['correlation'])\n",
        "corr_target.dropna(inplace=True)\n",
        "\n",
        "\n",
        "corr_target = corr_target.join(ratings['num_of_ratings'])\n",
        "\n",
        "\n",
        "recommendations = corr_target[corr_target['num_of_ratings'] > 100].sort_values('correlation', ascending=False)\n",
        "\n",
        "\n",
        "print(\"🎥 Top 10 movies similar to:\", target_movie)\n",
        "print(recommendations.head(10))\n"
      ]
    }
  ]
}